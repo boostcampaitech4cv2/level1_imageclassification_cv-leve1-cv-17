{
 "cells": [
  {
   "cell_type": "markdown",
   "metadata": {},
   "source": [
    "examples"
   ]
  },
  {
   "cell_type": "code",
   "execution_count": null,
   "metadata": {},
   "outputs": [],
   "source": [
    "import os\n",
    "import sys\n",
    "import cv2\n",
    "import numpy as np\n",
    "import pandas as pd\n",
    "from glob import glob\n",
    "from PIL import Image\n",
    "from tqdm.notebook import tqdm\n",
    "\n",
    "import matplotlib.pyplot as plt\n",
    "import seaborn as sns\n",
    "import multiprocessing as mp\n",
    "\n",
    "from face_detections import face_detect, gray_scale, cv_face_detect"
   ]
  },
  {
   "cell_type": "code",
   "execution_count": null,
   "metadata": {},
   "outputs": [],
   "source": [
    "os.path.dirname(os.path.abspath('__file__'))"
   ]
  },
  {
   "cell_type": "code",
   "execution_count": null,
   "metadata": {},
   "outputs": [],
   "source": [
    "class CFG:\n",
    "    data_dir = os.getcwd() + '/../input/data/train' # /opt/ml/project/DataProcessing/../input/data/train\n",
    "    img_dir = f'{data_dir}/images'\n",
    "    df_path = f'{data_dir}/train.csv'"
   ]
  },
  {
   "cell_type": "code",
   "execution_count": null,
   "metadata": {},
   "outputs": [],
   "source": [
    "num2class = ['incorrect_mask', 'mask1', 'mask2', 'mask3', 'mask4', 'mask5', 'normal']\n",
    "class2num = {k:v for v, k in enumerate(num2class)}\n",
    "print(class2num)\n",
    "\n",
    "df = pd.read_csv(CFG.df_path)\n",
    "df.head()\n",
    "df['path']"
   ]
  },
  {
   "cell_type": "code",
   "execution_count": null,
   "metadata": {},
   "outputs": [],
   "source": [
    "def image_path(idx, normal=6):\n",
    "    return CFG.img_dir +'/' + df['path'][idx] + '/' + num2class[normal] + '.jpg'\n",
    "\n",
    "print(image_path(0, 0))\n",
    "image = cv2.imread(image_path(0, 5))\n",
    "plt.imshow(cv2.cvtColor(image, cv2.COLOR_BGR2RGB))\n",
    "plt.show()"
   ]
  },
  {
   "cell_type": "code",
   "execution_count": null,
   "metadata": {},
   "outputs": [],
   "source": [
    "image = cv2.imread(image_path(1246, 2))\n",
    "\n",
    "face_image, x, y= face_detect(image, gray_scale)\n",
    "# if face_image is None:\n",
    "#     face_image, x, y = cv_face_detect(image)\n",
    "# face_image = cv_face_detect(image)\n",
    "print(face_image.shape)\n",
    "print(x, y)    \n",
    "plt.imshow(face_image)\n",
    "plt.show()\n",
    "print(face_image.shape)"
   ]
  },
  {
   "cell_type": "code",
   "execution_count": null,
   "metadata": {},
   "outputs": [],
   "source": [
    "image = cv2.imread(image_path(132, 5))\n",
    "h, w, c = image.shape\n",
    "h = 195\n",
    "w = 176\n",
    "x = 102\n",
    "y = 193\n",
    "image = image[y:y+h, x:x+w]\n",
    "plt.imshow(cv2.cvtColor(image, cv2.COLOR_BGR2RGB))\n",
    "plt.show()"
   ]
  },
  {
   "cell_type": "code",
   "execution_count": null,
   "metadata": {},
   "outputs": [],
   "source": [
    "# no image: 006056_female_Asian_19/mask2.jpg -> 006056_femail_Asian_19/mask2.png\n",
    "# print(image_path(2256, 2))\n",
    "# image = cv2.imread(image_path(2256, 2))\n",
    "# print(image is None)\n",
    "\n",
    "image = cv2.imread(image_path(254, 6))\n",
    "face_image, x, y = cv_face_detect(image)\n",
    "print(x, y) # [x, y, x+w, y+h] # faces[1]:faces[3], faces[0]:faces[2])\n",
    "print(face_image.shape)\n",
    "plt.imshow(face_image)\n",
    "plt.show()\n",
    "\n"
   ]
  },
  {
   "cell_type": "code",
   "execution_count": null,
   "metadata": {},
   "outputs": [],
   "source": [
    "heights = []\n",
    "widths  = []\n",
    "x_list = []\n",
    "y_list = []\n",
    "count = 0\n",
    "no_image_paths = []\n",
    "no_face_detect = []\n",
    "for i in range(len(df['path'])):\n",
    "    for j in range(len(num2class)):\n",
    "        image = cv2.imread(image_path(i, j))\n",
    "        if image is None:\n",
    "            no_image_paths.append(image_path(i, j))\n",
    "            continue\n",
    "        face_image, x, y = face_detect(image, gray_scale)\n",
    "        if face_image is None:\n",
    "            face_image, x, y = cv_face_detect(image)\n",
    "        if face_image is not None:\n",
    "        # face_image = cv_face_detect(image)\n",
    "            h, w, _ = face_image.shape\n",
    "            heights.append(h)\n",
    "            widths.append(w)\n",
    "            x_list.append(x)\n",
    "            y_list.append(y)\n",
    "        else:\n",
    "            count += 1\n",
    "            no_face_detect.append(image_path(i, j))\n",
    "            "
   ]
  },
  {
   "cell_type": "code",
   "execution_count": null,
   "metadata": {},
   "outputs": [],
   "source": [
    "print(round(sum(heights) / len(heights))) # 195\n",
    "print(round(sum(widths) / len(widths))) # 176\n",
    "print(round(sum(x_list) / len(x_list))) # 102\n",
    "print(round(sum(y_list) / len(y_list))) # 193\n",
    "print(len(heights), len(widths))\n",
    "print(f'no image path detected: {len(no_image_paths)}')\n",
    "print(f'no face detected: {count}')\n",
    "\n",
    "'''\n",
    "mean height: 195\n",
    "mean width: 176\n",
    "num of images: 17816 17816\n",
    "no image path detected: 865 -> *.png, *.jpeg\n",
    "no face detected: 219\n",
    "'''"
   ]
  }
 ],
 "metadata": {
  "kernelspec": {
   "display_name": "Python 3.8.5 ('base')",
   "language": "python",
   "name": "python3"
  },
  "language_info": {
   "codemirror_mode": {
    "name": "ipython",
    "version": 3
   },
   "file_extension": ".py",
   "mimetype": "text/x-python",
   "name": "python",
   "nbconvert_exporter": "python",
   "pygments_lexer": "ipython3",
   "version": "3.8.5"
  },
  "orig_nbformat": 4,
  "vscode": {
   "interpreter": {
    "hash": "d4d1e4263499bec80672ea0156c357c1ee493ec2b1c70f0acce89fc37c4a6abe"
   }
  }
 },
 "nbformat": 4,
 "nbformat_minor": 2
}
